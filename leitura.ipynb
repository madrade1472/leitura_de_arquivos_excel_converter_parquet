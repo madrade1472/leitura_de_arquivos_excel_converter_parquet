{
 "cells": [
  {
   "cell_type": "markdown",
   "metadata": {},
   "source": [
    "## leitura de arquivos em excel para arquitetura e consumo de dados do snowflake"
   ]
  },
  {
   "cell_type": "code",
   "execution_count": 134,
   "metadata": {},
   "outputs": [
    {
     "name": "stdout",
     "output_type": "stream",
     "text": [
      "Requirement already satisfied: pandas in c:\\users\\mdandrade\\appdata\\roaming\\python\\python312\\site-packages (2.2.0)\n",
      "Requirement already satisfied: numpy<2,>=1.26.0 in c:\\users\\mdandrade\\appdata\\roaming\\python\\python312\\site-packages (from pandas) (1.26.4)\n",
      "Requirement already satisfied: python-dateutil>=2.8.2 in c:\\users\\mdandrade\\appdata\\roaming\\python\\python312\\site-packages (from pandas) (2.8.2)\n",
      "Requirement already satisfied: pytz>=2020.1 in c:\\users\\mdandrade\\appdata\\roaming\\python\\python312\\site-packages (from pandas) (2024.1)\n",
      "Requirement already satisfied: tzdata>=2022.7 in c:\\users\\mdandrade\\appdata\\roaming\\python\\python312\\site-packages (from pandas) (2024.1)\n",
      "Requirement already satisfied: six>=1.5 in c:\\users\\mdandrade\\appdata\\roaming\\python\\python312\\site-packages (from python-dateutil>=2.8.2->pandas) (1.16.0)\n",
      "Requirement already satisfied: openpyxl in c:\\users\\mdandrade\\appdata\\roaming\\python\\python312\\site-packages (3.1.2)\n",
      "Requirement already satisfied: et-xmlfile in c:\\users\\mdandrade\\appdata\\roaming\\python\\python312\\site-packages (from openpyxl) (1.1.0)\n",
      "Requirement already satisfied: google.cloud in c:\\program files\\python312\\lib\\site-packages (0.34.0)\n",
      "Collecting storage\n",
      "  Downloading storage-0.0.4.3.tar.gz (4.4 kB)\n",
      "  Installing build dependencies: started\n",
      "  Installing build dependencies: finished with status 'done'\n",
      "  Getting requirements to build wheel: started\n",
      "  Getting requirements to build wheel: finished with status 'done'\n",
      "  Installing backend dependencies: started\n",
      "  Installing backend dependencies: finished with status 'done'\n",
      "  Preparing metadata (pyproject.toml): started\n",
      "  Preparing metadata (pyproject.toml): finished with status 'done'\n",
      "Collecting paramiko>=1.8.0 (from storage)\n",
      "  Downloading paramiko-3.4.0-py3-none-any.whl.metadata (4.4 kB)\n",
      "Collecting bcrypt>=3.2 (from paramiko>=1.8.0->storage)\n",
      "  Downloading bcrypt-4.1.2-cp39-abi3-win_amd64.whl.metadata (9.8 kB)\n",
      "Collecting cryptography>=3.3 (from paramiko>=1.8.0->storage)\n",
      "  Downloading cryptography-42.0.2-cp39-abi3-win_amd64.whl.metadata (5.4 kB)\n",
      "Collecting pynacl>=1.5 (from paramiko>=1.8.0->storage)\n",
      "  Downloading PyNaCl-1.5.0-cp36-abi3-win_amd64.whl (212 kB)\n",
      "     ---------------------------------------- 0.0/212.1 kB ? eta -:--:--\n",
      "     - -------------------------------------- 10.2/212.1 kB ? eta -:--:--\n",
      "     ---------- -------------------------- 61.4/212.1 kB 812.7 kB/s eta 0:00:01\n",
      "     ------------------------------- ------ 174.1/212.1 kB 1.5 MB/s eta 0:00:01\n",
      "     -------------------------------------- 212.1/212.1 kB 1.6 MB/s eta 0:00:00\n",
      "Collecting cffi>=1.12 (from cryptography>=3.3->paramiko>=1.8.0->storage)\n",
      "  Downloading cffi-1.16.0-cp312-cp312-win_amd64.whl.metadata (1.5 kB)\n",
      "Collecting pycparser (from cffi>=1.12->cryptography>=3.3->paramiko>=1.8.0->storage)\n",
      "  Downloading pycparser-2.21-py2.py3-none-any.whl (118 kB)\n",
      "     ---------------------------------------- 0.0/118.7 kB ? eta -:--:--\n",
      "     -------------------------------------- 118.7/118.7 kB 6.8 MB/s eta 0:00:00\n",
      "Downloading paramiko-3.4.0-py3-none-any.whl (225 kB)\n",
      "   ---------------------------------------- 0.0/225.9 kB ? eta -:--:--\n",
      "   ---------------------------------------- 225.9/225.9 kB 7.0 MB/s eta 0:00:00\n",
      "Downloading bcrypt-4.1.2-cp39-abi3-win_amd64.whl (158 kB)\n",
      "   ---------------------------------------- 0.0/158.3 kB ? eta -:--:--\n",
      "   ---------------------------------------- 158.3/158.3 kB ? eta 0:00:00\n",
      "Downloading cryptography-42.0.2-cp39-abi3-win_amd64.whl (2.9 MB)\n",
      "   ---------------------------------------- 0.0/2.9 MB ? eta -:--:--\n",
      "   ------- -------------------------------- 0.5/2.9 MB 15.7 MB/s eta 0:00:01\n",
      "   -------------------- ------------------- 1.5/2.9 MB 15.6 MB/s eta 0:00:01\n",
      "   ---------------------------------------  2.9/2.9 MB 22.9 MB/s eta 0:00:01\n",
      "   ---------------------------------------- 2.9/2.9 MB 20.4 MB/s eta 0:00:00\n",
      "Downloading cffi-1.16.0-cp312-cp312-win_amd64.whl (181 kB)\n",
      "   ---------------------------------------- 0.0/182.0 kB ? eta -:--:--\n",
      "   ---------------------------------------- 182.0/182.0 kB ? eta 0:00:00\n",
      "Building wheels for collected packages: storage\n",
      "  Building wheel for storage (pyproject.toml): started\n",
      "  Building wheel for storage (pyproject.toml): finished with status 'done'\n",
      "  Created wheel for storage: filename=storage-0.0.4.3-py3-none-any.whl size=6034 sha256=62238003b8e34900ce0cef7b41fa8086707f03f0665b33be259e7e65c06fbe9c\n",
      "  Stored in directory: c:\\users\\mdandrade\\appdata\\local\\pip\\cache\\wheels\\21\\0c\\41\\d9d6de842e5f4b22ed5b05c26011b653b206de3b28c8b3433a\n",
      "Successfully built storage\n",
      "Installing collected packages: pycparser, bcrypt, cffi, pynacl, cryptography, paramiko, storage\n",
      "Successfully installed bcrypt-4.1.2 cffi-1.16.0 cryptography-42.0.2 paramiko-3.4.0 pycparser-2.21 pynacl-1.5.0 storage-0.0.4.3\n"
     ]
    }
   ],
   "source": [
    "## Instalação de bibliotecas\n",
    "!pip install pandas\n",
    "!pip install openpyxl\n",
    "!pip install google.cloud\n",
    "!pip install storage"
   ]
  },
  {
   "cell_type": "markdown",
   "metadata": {},
   "source": [
    "##Início da leitura de arquivos##\n",
    "Import de bibliotecas para o arquivo"
   ]
  },
  {
   "cell_type": "code",
   "execution_count": 135,
   "metadata": {},
   "outputs": [],
   "source": [
    "import pandas as pd\n",
    "import csv\n",
    "import storage"
   ]
  },
  {
   "cell_type": "code",
   "execution_count": 115,
   "metadata": {},
   "outputs": [],
   "source": [
    "##def ler_arquivo(caminho_arquivo):\n",
    "#    return pd.read_csv(caminho_arquivo, sep=\",\")\n",
    "#def ler_arquivos(diretorio):\n",
    "#    # ista vazia para armazenar os DataFrames de cada arquivo\n",
    "#    dataframes = []\n",
    "#        # Loop pelos arquivos no diretório\n",
    "#    for arquivo in diretorio:\n",
    "#        # Ler o arquivo CSV e adicionando o DataFrame à lista\n",
    "#        df = ler_arquivo(arquivo)\n",
    "#        dataframes.append(df)\n",
    "#            # Concatenando todos os DataFrames na lista em um único DataFrame\n",
    "#    df_concatenado = pd.concat(dataframes, ignore_index=True)\n",
    "#    \n",
    "#    return df_concatenado\n",
    "## ler_arquivos para ler todos os arquivos CSV do \n",
    "##diretorio = [\n",
    "#    'C:/Users/mdandrade/Documents/arquivos CSV  - 1º Semestre - JANEIRO.csv',\n",
    "#    'C:/Users/mdandrade/Documents/arquivos CSV  - 1º Semestre - FEVEREIRO.csv',\n",
    "#    'C:/Users/mdandrade/Documents/arquivos CSV  - 1º Semestre - MARÇO.csv',\n",
    "#    'C:/Users/mdandrade/Documents/arquivos CSV  - 1º Semestre - ABRIL.csv'\n",
    "#]\n",
    "# Chamada da função ler_arquivos para ler todos os arquivos CSV no diretório \n",
    "#dados_concatenados = ler_arquivos(diretorio)"
   ]
  },
  {
   "cell_type": "code",
   "execution_count": 116,
   "metadata": {},
   "outputs": [],
   "source": [
    "janeiro = pd.read_csv('C:/Users/mdandrade/Documents/arquivos CSV Arquitetura/ 1º Semestre - JANEIRO.csv' , sep=\",\")"
   ]
  },
  {
   "cell_type": "code",
   "execution_count": 117,
   "metadata": {},
   "outputs": [],
   "source": [
    "fevereiro = pd.read_csv('C:/Users/mdandrade/Documents/arquivos CSV Arquitetura/1º Semestre - FEVEREIRO.csv' , sep=\",\")"
   ]
  },
  {
   "cell_type": "code",
   "execution_count": 118,
   "metadata": {},
   "outputs": [],
   "source": [
    "marco = pd.read_csv('C:/Users/mdandrade/Documents/arquivos CSV Arquitetura/1º Semestre - MARÇO.csv' , sep=\",\")"
   ]
  },
  {
   "cell_type": "code",
   "execution_count": 119,
   "metadata": {},
   "outputs": [],
   "source": [
    "abril = pd.read_csv('C:/Users/mdandrade/Documents/arquivos CSV Arquitetura/1º Semestre - ABRIL.csv' , sep=\",\")"
   ]
  },
  {
   "cell_type": "code",
   "execution_count": 120,
   "metadata": {},
   "outputs": [],
   "source": [
    "pd.set_option('display.width', 1000)\n",
    "pd.set_option('display.max_columns', None)\n",
    "##pd.set_option('display.max_rows', None)"
   ]
  },
  {
   "cell_type": "code",
   "execution_count": 121,
   "metadata": {},
   "outputs": [
    {
     "name": "stdout",
     "output_type": "stream",
     "text": [
      "       REGIAO VENDA  COD LOJA  PRODUTO                                          DESCRICAO  QTD VND VLR VND LIQ  QTD EST VLR EST LIQ\n",
      "0         SAO PAULO         1    13081                       COND DARLING 350ML CERAMIDAS     38.0  R$ 236,500        0    R$ 0,000\n",
      "1         SAO PAULO         1    13079                           COND DARLING 350ML TILIA     65.0  R$ 406,750        0    R$ 0,000\n",
      "2         SAO PAULO         1  1117037                              COND PALM 350ML DETOX     14.0  R$ 116,750        0    R$ 0,000\n",
      "3         SAO PAULO         1    13123               COND PALM NATURALS 350ML CERAMIDAS F     18.0  R$ 151,200        0    R$ 0,000\n",
      "4         SAO PAULO         1    62545             COND PALM NATURALS 350ML KIDS CACHEADO     11.0  R$ 127,600        0    R$ 0,000\n",
      "...             ...       ...      ...                                                ...      ...         ...      ...         ...\n",
      "26577          PARA       135  1118646                   LIMP AJAX DILUIVEL 1LT CITRONELA      0.0    R$ 0,000        0    R$ 0,000\n",
      "26578  MINAS GERAIS       158  1082286                  CR DENTAL COLGATE MPA L180G/P140G      0.0    R$ 0,000        0    R$ 0,000\n",
      "26579  MINAS GERAIS       158  1077513  CR DENTAL SORRISO TRIPLA 70G L12 P9 LIMP COMPLETA      0.0    R$ 0,000        0    R$ 0,000\n",
      "26580  MINAS GERAIS       158  1118646                   LIMP AJAX DILUIVEL 1LT CITRONELA      0.0    R$ 0,000        0    R$ 0,000\n",
      "26581      RONDONIA       175  1117037                              COND PALM 350ML DETOX      0.0    R$ 0,000        0    R$ 0,000\n",
      "\n",
      "[26582 rows x 8 columns]\n"
     ]
    }
   ],
   "source": [
    "#imprimir arquivo\n",
    "print(janeiro)"
   ]
  },
  {
   "cell_type": "code",
   "execution_count": 122,
   "metadata": {},
   "outputs": [
    {
     "name": "stdout",
     "output_type": "stream",
     "text": [
      "      REGIAO VENDA  COD LOJA  PRODUTO                                  DESCRICAO  QTD VND   VLR VND LIQ  QTD EST VLR EST LIQ\n",
      "0          ALAGOAS        76     4897   CR DENTAL SORRISO FRESH 90G EMPAC MENTOL    1.339  R$ 3.796,910        0    R$ 0,000\n",
      "1          ALAGOAS        76     4900          CR DENTAL SORRISO FRESH 90G MENTA  719.000  R$ 2.027,510        0    R$ 0,000\n",
      "2          ALAGOAS        76     4909        CR DENTAL SORRISO FRESH 90G HORTELA  754.000  R$ 2.121,660        0    R$ 0,000\n",
      "3          ALAGOAS        76     4923                        CR DENTAL TANDY 50G  498.000  R$ 2.229,920        0    R$ 0,000\n",
      "4          ALAGOAS        76     4925                    CR DENTAL TANDY 50G MOR  316.000  R$ 1.408,640        0    R$ 0,000\n",
      "...            ...       ...      ...                                        ...      ...           ...      ...         ...\n",
      "27948    TOCANTINS       176  1124559       SABONETE PALM LIQ KIDS 240ML MINIONS   55.000    R$ 438,200        0    R$ 0,000\n",
      "27949    TOCANTINS       176  1124564                 CR DENTAL SORRISO KIDS 50G  770.000  R$ 3.009,700        0    R$ 0,000\n",
      "27950    TOCANTINS       176  1124566   LIMP AJAX MULTIUSO 500ML LAVANDA E MENTA  211.000    R$ 491,090        0    R$ 0,000\n",
      "27951    TOCANTINS       176  1124573  LIMP AJAX MULTIUSO 500ML FRUTAS VERMELHAS  239.000    R$ 552,840        0    R$ 0,000\n",
      "27952    TOCANTINS       176  1125068        CR DENTAL TANDY 50G LV3 PG2 SORTIDO   23.000    R$ 227,700        0    R$ 0,000\n",
      "\n",
      "[27953 rows x 8 columns]\n"
     ]
    }
   ],
   "source": [
    "#imprimir arquivo\n",
    "print(fevereiro)"
   ]
  },
  {
   "cell_type": "code",
   "execution_count": 123,
   "metadata": {},
   "outputs": [
    {
     "name": "stdout",
     "output_type": "stream",
     "text": [
      "      REGIAO VENDA  COD LOJA  PRODUTO                                         DESCRICAO  QTD VND   VLR VND LIQ  QTD EST VLR EST LIQ\n",
      "0          ALAGOAS        76     4897          CR DENTAL SORRISO FRESH 90G EMPAC MENTOL    1.835  R$ 5.170,350        0    R$ 0,000\n",
      "1          ALAGOAS        76     4900                 CR DENTAL SORRISO FRESH 90G MENTA    1.415  R$ 3.950,350        0    R$ 0,000\n",
      "2          ALAGOAS        76     4909               CR DENTAL SORRISO FRESH 90G HORTELA  438.000  R$ 1.233,420        0    R$ 0,000\n",
      "3          ALAGOAS        76     4923                               CR DENTAL TANDY 50G  416.000  R$ 1.789,920        0    R$ 0,000\n",
      "4          ALAGOAS        76     4925                           CR DENTAL TANDY 50G MOR  197.000    R$ 845,130        0    R$ 0,000\n",
      "...            ...       ...      ...                                               ...      ...           ...      ...         ...\n",
      "28829    TOCANTINS       176  1124566          LIMP AJAX MULTIUSO 500ML LAVANDA E MENTA  504.000  R$ 1.175,340        0    R$ 0,000\n",
      "28830    TOCANTINS       176  1124573         LIMP AJAX MULTIUSO 500ML FRUTAS VERMELHAS  357.000    R$ 827,220        0    R$ 0,000\n",
      "28831    TOCANTINS       176  1125061  CR DENTAL COLGATE NAT EXTRACT 4X90G DEFESA REFOR    8.000    R$ 175,200        0    R$ 0,000\n",
      "28832    TOCANTINS       176  1125062         CR DENTAL SORRISO LV180G PG140G LIMP PROF  321.000  R$ 1.280,790        0    R$ 0,000\n",
      "28833    TOCANTINS       176  1125068               CR DENTAL TANDY 50G LV3 PG2 SORTIDO   79.000    R$ 782,100        0    R$ 0,000\n",
      "\n",
      "[28834 rows x 8 columns]\n"
     ]
    }
   ],
   "source": [
    "#imprimir arquivo\n",
    "print(marco)"
   ]
  },
  {
   "cell_type": "code",
   "execution_count": 124,
   "metadata": {},
   "outputs": [
    {
     "name": "stdout",
     "output_type": "stream",
     "text": [
      "      REGIAO VENDA  COD LOJA  PRODUTO                                          DESCRICAO  QTD VND   VLR VND LIQ  QTD EST VLR EST LIQ\n",
      "0          ALAGOAS        76     4897           CR DENTAL SORRISO FRESH 90G EMPAC MENTOL    1.281  R$ 3.618,090        0    R$ 0,000\n",
      "1          ALAGOAS        76     4900                  CR DENTAL SORRISO FRESH 90G MENTA  802.000  R$ 2.254,380        0    R$ 0,000\n",
      "2          ALAGOAS        76     4909                CR DENTAL SORRISO FRESH 90G HORTELA  244.000    R$ 691,360        0    R$ 0,000\n",
      "3          ALAGOAS        76     4923                                CR DENTAL TANDY 50G  317.000  R$ 1.542,470        0    R$ 0,000\n",
      "4          ALAGOAS        76     4925                            CR DENTAL TANDY 50G MOR  359.000  R$ 1.754,510        0    R$ 0,000\n",
      "...            ...       ...      ...                                                ...      ...           ...      ...         ...\n",
      "28898    TOCANTINS       176  1127343          SABONETE PALM NATURALS 5X200G ALOE LV+PG-    2.000     R$ 19,520        0    R$ 0,000\n",
      "28899    TOCANTINS       176  1127361            SABONETE PROTEX 5X200G LIMP PROF LV+PG-   11.000    R$ 152,440        0    R$ 0,000\n",
      "28900    TOCANTINS       176  1127365                   SABONETE PROTEX 5X200G ERVA DOCE   11.000    R$ 152,440        0    R$ 0,000\n",
      "28901    TOCANTINS       176  1130419                    ENXAGUATORIO PLAX 2LT SOFT MINT    0.000      R$ 0,000        0    R$ 0,000\n",
      "28902    TOCANTINS       176  1130422  CR DENTAL COLGATE 70G LUMINOUS WHIT CARVAO ATI...   86.000    R$ 557,640        0    R$ 0,000\n",
      "\n",
      "[28903 rows x 8 columns]\n"
     ]
    }
   ],
   "source": [
    "#imprimir arquivo\n",
    "print(abril)"
   ]
  },
  {
   "cell_type": "code",
   "execution_count": 125,
   "metadata": {},
   "outputs": [],
   "source": [
    "##Leitura de arquivos (para validação de linhas)\n",
    "num_linhas_janeiro = len(janeiro)\n",
    "num_linhas_fevereiro = len(fevereiro)\n",
    "num_linhas_marco = len(marco)\n",
    "num_linhas_abril = len(abril)\n"
   ]
  },
  {
   "cell_type": "code",
   "execution_count": 126,
   "metadata": {},
   "outputs": [
    {
     "name": "stdout",
     "output_type": "stream",
     "text": [
      "Janeiro 26582 \n",
      "Fevereiro 27953 \n",
      "Marco 28834 \n",
      "Abril 28903\n",
      "A Soma total de Todos os arquivos é: 112,272 Linhas\n"
     ]
    }
   ],
   "source": [
    "##exibe a quantidade de linhas de cada arquivo\n",
    "print(\"Janeiro\", num_linhas_janeiro,\"\\n\"\n",
    "      \"Fevereiro\", num_linhas_fevereiro,\"\\n\"\n",
    "      \"Marco\", num_linhas_marco,\"\\n\"\n",
    "      \"Abril\", num_linhas_abril)\n",
    "##Efetua a soma de todas as linhas \n",
    "soma_linhas = sum([num_linhas_janeiro,num_linhas_fevereiro,num_linhas_marco,num_linhas_abril])\n",
    "print(\"A Soma total de Todos os arquivos é:\", format(soma_linhas, ','),\"Linhas\")"
   ]
  },
  {
   "cell_type": "markdown",
   "metadata": {},
   "source": [
    "## Agora iremos iniciar a concatenação dos arquivos para que em nossa saída tenhamos apenas 1 único arquivo:##"
   ]
  },
  {
   "cell_type": "code",
   "execution_count": 127,
   "metadata": {},
   "outputs": [],
   "source": [
    "meses_Concat = pd.concat([janeiro,fevereiro,marco,abril])"
   ]
  },
  {
   "cell_type": "code",
   "execution_count": 128,
   "metadata": {},
   "outputs": [
    {
     "name": "stdout",
     "output_type": "stream",
     "text": [
      "      REGIAO VENDA  COD LOJA  PRODUTO                                          DESCRICAO  QTD VND VLR VND LIQ  QTD EST VLR EST LIQ\n",
      "0        SAO PAULO         1    13081                       COND DARLING 350ML CERAMIDAS     38.0  R$ 236,500        0    R$ 0,000\n",
      "1        SAO PAULO         1    13079                           COND DARLING 350ML TILIA     65.0  R$ 406,750        0    R$ 0,000\n",
      "2        SAO PAULO         1  1117037                              COND PALM 350ML DETOX     14.0  R$ 116,750        0    R$ 0,000\n",
      "3        SAO PAULO         1    13123               COND PALM NATURALS 350ML CERAMIDAS F     18.0  R$ 151,200        0    R$ 0,000\n",
      "4        SAO PAULO         1    62545             COND PALM NATURALS 350ML KIDS CACHEADO     11.0  R$ 127,600        0    R$ 0,000\n",
      "...            ...       ...      ...                                                ...      ...         ...      ...         ...\n",
      "28898    TOCANTINS       176  1127343          SABONETE PALM NATURALS 5X200G ALOE LV+PG-      2.0   R$ 19,520        0    R$ 0,000\n",
      "28899    TOCANTINS       176  1127361            SABONETE PROTEX 5X200G LIMP PROF LV+PG-     11.0  R$ 152,440        0    R$ 0,000\n",
      "28900    TOCANTINS       176  1127365                   SABONETE PROTEX 5X200G ERVA DOCE     11.0  R$ 152,440        0    R$ 0,000\n",
      "28901    TOCANTINS       176  1130419                    ENXAGUATORIO PLAX 2LT SOFT MINT      0.0    R$ 0,000        0    R$ 0,000\n",
      "28902    TOCANTINS       176  1130422  CR DENTAL COLGATE 70G LUMINOUS WHIT CARVAO ATI...     86.0  R$ 557,640        0    R$ 0,000\n",
      "\n",
      "[112272 rows x 8 columns]\n"
     ]
    }
   ],
   "source": [
    "#imprimindo arquivo concatenado\n",
    "print(meses_Concat)"
   ]
  },
  {
   "cell_type": "markdown",
   "metadata": {},
   "source": [
    "## Agora iremos imprimir todo arquivo concatenado"
   ]
  },
  {
   "cell_type": "code",
   "execution_count": 129,
   "metadata": {},
   "outputs": [],
   "source": [
    "##imprime a quantidade de linhas concatenadas\n",
    "linhas_concatenadas = len(meses_Concat)"
   ]
  },
  {
   "cell_type": "code",
   "execution_count": 130,
   "metadata": {},
   "outputs": [
    {
     "name": "stdout",
     "output_type": "stream",
     "text": [
      "112272\n"
     ]
    }
   ],
   "source": [
    "##imprimindo a quantidade de linhas concatenadas\n",
    "print(linhas_concatenadas)"
   ]
  },
  {
   "cell_type": "code",
   "execution_count": 131,
   "metadata": {},
   "outputs": [
    {
     "name": "stdout",
     "output_type": "stream",
     "text": [
      "      REGIAO VENDA  COD LOJA  PRODUTO                                          DESCRICAO  QTD VND VLR VND LIQ  QTD EST VLR EST LIQ\n",
      "0        SAO PAULO         1    13081                       COND DARLING 350ML CERAMIDAS     38.0  R$ 236,500        0    R$ 0,000\n",
      "1        SAO PAULO         1    13079                           COND DARLING 350ML TILIA     65.0  R$ 406,750        0    R$ 0,000\n",
      "2        SAO PAULO         1  1117037                              COND PALM 350ML DETOX     14.0  R$ 116,750        0    R$ 0,000\n",
      "3        SAO PAULO         1    13123               COND PALM NATURALS 350ML CERAMIDAS F     18.0  R$ 151,200        0    R$ 0,000\n",
      "4        SAO PAULO         1    62545             COND PALM NATURALS 350ML KIDS CACHEADO     11.0  R$ 127,600        0    R$ 0,000\n",
      "...            ...       ...      ...                                                ...      ...         ...      ...         ...\n",
      "28898    TOCANTINS       176  1127343          SABONETE PALM NATURALS 5X200G ALOE LV+PG-      2.0   R$ 19,520        0    R$ 0,000\n",
      "28899    TOCANTINS       176  1127361            SABONETE PROTEX 5X200G LIMP PROF LV+PG-     11.0  R$ 152,440        0    R$ 0,000\n",
      "28900    TOCANTINS       176  1127365                   SABONETE PROTEX 5X200G ERVA DOCE     11.0  R$ 152,440        0    R$ 0,000\n",
      "28901    TOCANTINS       176  1130419                    ENXAGUATORIO PLAX 2LT SOFT MINT      0.0    R$ 0,000        0    R$ 0,000\n",
      "28902    TOCANTINS       176  1130422  CR DENTAL COLGATE 70G LUMINOUS WHIT CARVAO ATI...     86.0  R$ 557,640        0    R$ 0,000\n",
      "\n",
      "[112272 rows x 8 columns]\n"
     ]
    }
   ],
   "source": [
    "print(meses_Concat)"
   ]
  },
  {
   "cell_type": "markdown",
   "metadata": {},
   "source": [
    "Validamos toda estrutura e verificamos que a soma de linhas dos arquivos está identica a que necessitamos, com isto garantimos o processo de leitura de dados e concat\n",
    "Agora iremos iniciar o processo de carga de dados em um ambiente gcp"
   ]
  },
  {
   "cell_type": "markdown",
   "metadata": {},
   "source": [
    "SALVAR O ARQUIVO CONCATENADO EM UM FORMATO PARA LEITURA EM ENGENHARIA DE DADOS (PARA PODERMOS CONSUMIR NO SNOWFLAKE)"
   ]
  },
  {
   "cell_type": "code",
   "execution_count": 138,
   "metadata": {},
   "outputs": [],
   "source": [
    "#arqivo .parquet\n",
    "parquet_arquivo = 'C:/Users/mdandrade/Documents/arquivos CSV Arquitetura/concatenado.parquet'\n"
   ]
  },
  {
   "cell_type": "code",
   "execution_count": 142,
   "metadata": {},
   "outputs": [],
   "source": [
    "#Salvar o Def como parquet\n",
    "meses_Concat.to_parquet(parquet_arquivo)"
   ]
  },
  {
   "cell_type": "code",
   "execution_count": 143,
   "metadata": {},
   "outputs": [],
   "source": [
    "#leitura de parquet apenas para garantia de estar correto\n",
    "df = pd.read_parquet(parquet_arquivo)"
   ]
  },
  {
   "cell_type": "code",
   "execution_count": 144,
   "metadata": {},
   "outputs": [
    {
     "name": "stdout",
     "output_type": "stream",
     "text": [
      "<bound method NDFrame.head of       REGIAO VENDA  COD LOJA  PRODUTO                                          DESCRICAO  QTD VND VLR VND LIQ  QTD EST VLR EST LIQ\n",
      "0        SAO PAULO         1    13081                       COND DARLING 350ML CERAMIDAS     38.0  R$ 236,500        0    R$ 0,000\n",
      "1        SAO PAULO         1    13079                           COND DARLING 350ML TILIA     65.0  R$ 406,750        0    R$ 0,000\n",
      "2        SAO PAULO         1  1117037                              COND PALM 350ML DETOX     14.0  R$ 116,750        0    R$ 0,000\n",
      "3        SAO PAULO         1    13123               COND PALM NATURALS 350ML CERAMIDAS F     18.0  R$ 151,200        0    R$ 0,000\n",
      "4        SAO PAULO         1    62545             COND PALM NATURALS 350ML KIDS CACHEADO     11.0  R$ 127,600        0    R$ 0,000\n",
      "...            ...       ...      ...                                                ...      ...         ...      ...         ...\n",
      "28898    TOCANTINS       176  1127343          SABONETE PALM NATURALS 5X200G ALOE LV+PG-      2.0   R$ 19,520        0    R$ 0,000\n",
      "28899    TOCANTINS       176  1127361            SABONETE PROTEX 5X200G LIMP PROF LV+PG-     11.0  R$ 152,440        0    R$ 0,000\n",
      "28900    TOCANTINS       176  1127365                   SABONETE PROTEX 5X200G ERVA DOCE     11.0  R$ 152,440        0    R$ 0,000\n",
      "28901    TOCANTINS       176  1130419                    ENXAGUATORIO PLAX 2LT SOFT MINT      0.0    R$ 0,000        0    R$ 0,000\n",
      "28902    TOCANTINS       176  1130422  CR DENTAL COLGATE 70G LUMINOUS WHIT CARVAO ATI...     86.0  R$ 557,640        0    R$ 0,000\n",
      "\n",
      "[112272 rows x 8 columns]>\n"
     ]
    }
   ],
   "source": [
    "print(df.head)"
   ]
  },
  {
   "cell_type": "code",
   "execution_count": 145,
   "metadata": {},
   "outputs": [
    {
     "name": "stdout",
     "output_type": "stream",
     "text": [
      "Note: you may need to restart the kernel to use updated packages.\n"
     ]
    },
    {
     "name": "stderr",
     "output_type": "stream",
     "text": [
      "ERROR: Could not find a version that satisfies the requirement git (from versions: none)\n",
      "ERROR: No matching distribution found for git\n"
     ]
    }
   ],
   "source": [
    "pip install git"
   ]
  }
 ],
 "metadata": {
  "kernelspec": {
   "display_name": "Python 3",
   "language": "python",
   "name": "python3"
  },
  "language_info": {
   "codemirror_mode": {
    "name": "ipython",
    "version": 3
   },
   "file_extension": ".py",
   "mimetype": "text/x-python",
   "name": "python",
   "nbconvert_exporter": "python",
   "pygments_lexer": "ipython3",
   "version": "3.12.2"
  }
 },
 "nbformat": 4,
 "nbformat_minor": 2
}
